{
 "cells": [
  {
   "cell_type": "code",
   "execution_count": 1,
   "metadata": {},
   "outputs": [],
   "source": [
    "import sys\n",
    "sys.path.append('..')\n",
    "\n",
    "import os\n",
    "import torch\n",
    "from tqdm import tqdm\n",
    "from copy import deepcopy\n",
    "from torch.utils.tensorboard import SummaryWriter\n",
    "\n",
    "from src.utils.get_model_and_data import get_model_and_data\n",
    "from src.utils.collate_fn_coco import collate_fn_coco"
   ]
  },
  {
   "cell_type": "code",
   "execution_count": 2,
   "metadata": {},
   "outputs": [],
   "source": [
    "# checkpoint_path = '../checkpoint/boxclip-finetune-coslr'\n",
    "checkpoint_path = '../checkpoint/boxclip-one-cap-0806/'\n",
    "checkpoint_name = 'checkpoint-epoch{}.pth.tar'"
   ]
  },
  {
   "cell_type": "code",
   "execution_count": 4,
   "metadata": {},
   "outputs": [
    {
     "name": "stdout",
     "output_type": "stream",
     "text": [
      "loading annotations into memory...\n",
      "Done (t=16.70s)\n",
      "creating index...\n",
      "index created!\n",
      "loading annotations into memory...\n",
      "Done (t=0.99s)\n",
      "creating index...\n",
      "index created!\n",
      "train set scale: 21391\n",
      "loading annotations into memory...\n",
      "Done (t=0.47s)\n",
      "creating index...\n",
      "index created!\n",
      "loading annotations into memory...\n",
      "Done (t=0.05s)\n",
      "creating index...\n",
      "index created!\n",
      "val set scale: 925\n"
     ]
    },
    {
     "ename": "KeyError",
     "evalue": "'num_attentionLayer'",
     "output_type": "error",
     "traceback": [
      "\u001b[0;31m---------------------------------------------------------------------------\u001b[0m",
      "\u001b[0;31mKeyError\u001b[0m                                  Traceback (most recent call last)",
      "\u001b[1;32m/userhome/37/ywguo/summer-intern/github/BoxCLIP/notebook/validation_loss_from_checkpoint.ipynb Cell 3\u001b[0m in \u001b[0;36m<cell line: 5>\u001b[0;34m()\u001b[0m\n\u001b[1;32m      <a href='vscode-notebook-cell://ssh-remote%2B10.21.5.134/userhome/37/ywguo/summer-intern/github/BoxCLIP/notebook/validation_loss_from_checkpoint.ipynb#W2sdnNjb2RlLXJlbW90ZQ%3D%3D?line=0'>1</a>\u001b[0m parameters \u001b[39m=\u001b[39m {\n\u001b[1;32m      <a href='vscode-notebook-cell://ssh-remote%2B10.21.5.134/userhome/37/ywguo/summer-intern/github/BoxCLIP/notebook/validation_loss_from_checkpoint.ipynb#W2sdnNjb2RlLXJlbW90ZQ%3D%3D?line=1'>2</a>\u001b[0m     \u001b[39m'\u001b[39m\u001b[39mdevice\u001b[39m\u001b[39m'\u001b[39m: \u001b[39m'\u001b[39m\u001b[39mcuda\u001b[39m\u001b[39m'\u001b[39m,\n\u001b[1;32m      <a href='vscode-notebook-cell://ssh-remote%2B10.21.5.134/userhome/37/ywguo/summer-intern/github/BoxCLIP/notebook/validation_loss_from_checkpoint.ipynb#W2sdnNjb2RlLXJlbW90ZQ%3D%3D?line=2'>3</a>\u001b[0m     \u001b[39m'\u001b[39m\u001b[39mnum_attentionLayers\u001b[39m\u001b[39m'\u001b[39m: \u001b[39m4\u001b[39m\n\u001b[1;32m      <a href='vscode-notebook-cell://ssh-remote%2B10.21.5.134/userhome/37/ywguo/summer-intern/github/BoxCLIP/notebook/validation_loss_from_checkpoint.ipynb#W2sdnNjb2RlLXJlbW90ZQ%3D%3D?line=3'>4</a>\u001b[0m }\n\u001b[0;32m----> <a href='vscode-notebook-cell://ssh-remote%2B10.21.5.134/userhome/37/ywguo/summer-intern/github/BoxCLIP/notebook/validation_loss_from_checkpoint.ipynb#W2sdnNjb2RlLXJlbW90ZQ%3D%3D?line=4'>5</a>\u001b[0m model, datasets \u001b[39m=\u001b[39m get_model_and_data(parameters)\n",
      "File \u001b[0;32m~/summer-intern/github/BoxCLIP/notebook/../src/utils/get_model_and_data.py:14\u001b[0m, in \u001b[0;36mget_model_and_data\u001b[0;34m(parameters)\u001b[0m\n\u001b[1;32m     11\u001b[0m     p\u001b[39m.\u001b[39mrequires_grad \u001b[39m=\u001b[39m \u001b[39mFalse\u001b[39;00m\n\u001b[1;32m     13\u001b[0m datasets \u001b[39m=\u001b[39m get_datasets(parameters, clip_preprocess\u001b[39m=\u001b[39mclip_preprocess)\n\u001b[0;32m---> 14\u001b[0m model \u001b[39m=\u001b[39m get_model(parameters, clip_model)\n\u001b[1;32m     16\u001b[0m \u001b[39mreturn\u001b[39;00m model, datasets\n",
      "File \u001b[0;32m~/summer-intern/github/BoxCLIP/notebook/../src/models/get_model.py:6\u001b[0m, in \u001b[0;36mget_model\u001b[0;34m(parameters, clip_model)\u001b[0m\n\u001b[1;32m      4\u001b[0m \u001b[39mdef\u001b[39;00m \u001b[39mget_model\u001b[39m(parameters, clip_model):\n\u001b[0;32m----> 6\u001b[0m     encoder \u001b[39m=\u001b[39m Encoder_TRANSFORMER(num_layers\u001b[39m=\u001b[39mparameters[\u001b[39m'\u001b[39;49m\u001b[39mnum_attentionLayer\u001b[39;49m\u001b[39m'\u001b[39;49m])\n\u001b[1;32m      7\u001b[0m     decoder \u001b[39m=\u001b[39m Decoder_TRANSFORMER(num_layers\u001b[39m=\u001b[39mparameters[\u001b[39m'\u001b[39m\u001b[39mnum_attentionLayer\u001b[39m\u001b[39m'\u001b[39m])\n\u001b[1;32m      8\u001b[0m     model \u001b[39m=\u001b[39m BOXCLIP(encoder\u001b[39m=\u001b[39mencoder, decoder\u001b[39m=\u001b[39mdecoder, clip_model\u001b[39m=\u001b[39mclip_model, \n\u001b[1;32m      9\u001b[0m                     device\u001b[39m=\u001b[39mparameters[\u001b[39m'\u001b[39m\u001b[39mdevice\u001b[39m\u001b[39m'\u001b[39m])\u001b[39m.\u001b[39mto(device\u001b[39m=\u001b[39mparameters[\u001b[39m'\u001b[39m\u001b[39mdevice\u001b[39m\u001b[39m'\u001b[39m])\n",
      "\u001b[0;31mKeyError\u001b[0m: 'num_attentionLayer'"
     ]
    }
   ],
   "source": [
    "parameters = {\n",
    "    'device': 'cuda',\n",
    "    'num_attentionLayer': 4\n",
    "}\n",
    "model, datasets = get_model_and_data(parameters)"
   ]
  },
  {
   "cell_type": "code",
   "execution_count": null,
   "metadata": {},
   "outputs": [],
   "source": [
    "def eval_loss(dataloader, model, device):\n",
    "    dict_loss = {}\n",
    "    model.eval()\n",
    "    with torch.no_grad():\n",
    "        for i, batch in enumerate(tqdm(dataloader)):\n",
    "            for k, v in batch.items():\n",
    "                if torch.is_tensor(batch[k]): batch[k] = batch[k].to(device)\n",
    "                \n",
    "            batch.update(model(batch))\n",
    "            _, losses = model.compute_loss(batch)\n",
    "            if i == 0:\n",
    "                dict_loss = deepcopy(losses)\n",
    "            else:\n",
    "                for k in dict_loss.keys():\n",
    "                    dict_loss[k] += losses[k]\n",
    "        for k in dict_loss.keys():\n",
    "            dict_loss[k] /= len(dataloader)\n",
    "    \n",
    "    dict_loss = {'val_'+k: v for k, v in dict_loss.items()}\n",
    "    return dict_loss"
   ]
  },
  {
   "cell_type": "code",
   "execution_count": null,
   "metadata": {},
   "outputs": [
    {
     "name": "stdout",
     "output_type": "stream",
     "text": [
      "iter per epoch: 335\n",
      "checkpoint-epoch0.pth.tar not found.\n",
      "checkpoint checkpoint-epoch5.pth.tar loaded.\n"
     ]
    },
    {
     "name": "stderr",
     "output_type": "stream",
     "text": [
      "100%|███████████████████████████████████████████████████████████████████████████████████████████████████████████████| 47/47 [00:40<00:00,  1.16it/s]\n"
     ]
    },
    {
     "name": "stdout",
     "output_type": "stream",
     "text": [
      "checkpoint checkpoint-epoch10.pth.tar loaded.\n"
     ]
    },
    {
     "name": "stderr",
     "output_type": "stream",
     "text": [
      "100%|███████████████████████████████████████████████████████████████████████████████████████████████████████████████| 47/47 [00:27<00:00,  1.73it/s]\n"
     ]
    },
    {
     "name": "stdout",
     "output_type": "stream",
     "text": [
      "checkpoint checkpoint-epoch15.pth.tar loaded.\n"
     ]
    },
    {
     "name": "stderr",
     "output_type": "stream",
     "text": [
      "100%|███████████████████████████████████████████████████████████████████████████████████████████████████████████████| 47/47 [00:32<00:00,  1.47it/s]\n"
     ]
    },
    {
     "name": "stdout",
     "output_type": "stream",
     "text": [
      "checkpoint checkpoint-epoch20.pth.tar loaded.\n"
     ]
    },
    {
     "name": "stderr",
     "output_type": "stream",
     "text": [
      "100%|███████████████████████████████████████████████████████████████████████████████████████████████████████████████| 47/47 [00:29<00:00,  1.62it/s]\n"
     ]
    },
    {
     "name": "stdout",
     "output_type": "stream",
     "text": [
      "checkpoint checkpoint-epoch25.pth.tar loaded.\n"
     ]
    },
    {
     "name": "stderr",
     "output_type": "stream",
     "text": [
      "100%|███████████████████████████████████████████████████████████████████████████████████████████████████████████████| 47/47 [00:29<00:00,  1.60it/s]\n"
     ]
    },
    {
     "name": "stdout",
     "output_type": "stream",
     "text": [
      "checkpoint checkpoint-epoch30.pth.tar loaded.\n"
     ]
    },
    {
     "name": "stderr",
     "output_type": "stream",
     "text": [
      "100%|███████████████████████████████████████████████████████████████████████████████████████████████████████████████| 47/47 [00:31<00:00,  1.49it/s]\n"
     ]
    },
    {
     "name": "stdout",
     "output_type": "stream",
     "text": [
      "checkpoint checkpoint-epoch35.pth.tar loaded.\n"
     ]
    },
    {
     "name": "stderr",
     "output_type": "stream",
     "text": [
      "100%|███████████████████████████████████████████████████████████████████████████████████████████████████████████████| 47/47 [00:31<00:00,  1.48it/s]\n"
     ]
    },
    {
     "name": "stdout",
     "output_type": "stream",
     "text": [
      "checkpoint checkpoint-epoch40.pth.tar loaded.\n"
     ]
    },
    {
     "name": "stderr",
     "output_type": "stream",
     "text": [
      "100%|███████████████████████████████████████████████████████████████████████████████████████████████████████████████| 47/47 [00:32<00:00,  1.45it/s]\n"
     ]
    },
    {
     "name": "stdout",
     "output_type": "stream",
     "text": [
      "checkpoint checkpoint-epoch45.pth.tar loaded.\n"
     ]
    },
    {
     "name": "stderr",
     "output_type": "stream",
     "text": [
      "100%|███████████████████████████████████████████████████████████████████████████████████████████████████████████████| 47/47 [00:43<00:00,  1.09it/s]\n"
     ]
    },
    {
     "name": "stdout",
     "output_type": "stream",
     "text": [
      "checkpoint checkpoint-epoch50.pth.tar loaded.\n"
     ]
    },
    {
     "name": "stderr",
     "output_type": "stream",
     "text": [
      "100%|███████████████████████████████████████████████████████████████████████████████████████████████████████████████| 47/47 [00:44<00:00,  1.05it/s]\n"
     ]
    },
    {
     "name": "stdout",
     "output_type": "stream",
     "text": [
      "checkpoint checkpoint-epoch55.pth.tar loaded.\n"
     ]
    },
    {
     "name": "stderr",
     "output_type": "stream",
     "text": [
      "100%|███████████████████████████████████████████████████████████████████████████████████████████████████████████████| 47/47 [00:46<00:00,  1.02it/s]\n"
     ]
    },
    {
     "name": "stdout",
     "output_type": "stream",
     "text": [
      "checkpoint checkpoint-epoch60.pth.tar loaded.\n"
     ]
    },
    {
     "name": "stderr",
     "output_type": "stream",
     "text": [
      "100%|███████████████████████████████████████████████████████████████████████████████████████████████████████████████| 47/47 [00:55<00:00,  1.18s/it]\n"
     ]
    },
    {
     "name": "stdout",
     "output_type": "stream",
     "text": [
      "checkpoint checkpoint-epoch65.pth.tar loaded.\n"
     ]
    },
    {
     "name": "stderr",
     "output_type": "stream",
     "text": [
      "100%|███████████████████████████████████████████████████████████████████████████████████████████████████████████████| 47/47 [00:59<00:00,  1.27s/it]\n"
     ]
    },
    {
     "name": "stdout",
     "output_type": "stream",
     "text": [
      "checkpoint checkpoint-epoch70.pth.tar loaded.\n"
     ]
    },
    {
     "name": "stderr",
     "output_type": "stream",
     "text": [
      "100%|███████████████████████████████████████████████████████████████████████████████████████████████████████████████| 47/47 [00:44<00:00,  1.07it/s]\n"
     ]
    },
    {
     "name": "stdout",
     "output_type": "stream",
     "text": [
      "checkpoint checkpoint-epoch75.pth.tar loaded.\n"
     ]
    },
    {
     "name": "stderr",
     "output_type": "stream",
     "text": [
      "100%|███████████████████████████████████████████████████████████████████████████████████████████████████████████████| 47/47 [00:28<00:00,  1.64it/s]\n"
     ]
    },
    {
     "name": "stdout",
     "output_type": "stream",
     "text": [
      "checkpoint checkpoint-epoch80.pth.tar loaded.\n"
     ]
    },
    {
     "name": "stderr",
     "output_type": "stream",
     "text": [
      " 68%|███████████████████████████████████████████████████████████████████████████▌                                   | 32/47 [00:22<00:09,  1.56it/s]"
     ]
    }
   ],
   "source": [
    "# val_losses = eval_loss(val_loader, model, 'cuda')\n",
    "iter_per_eps = len(datasets['train']) // 64\n",
    "if iter_per_eps * 64 < len(datasets['train']): iter_per_eps += 1\n",
    "print(f'iter per epoch: {iter_per_eps}')\n",
    "\n",
    "writer = SummaryWriter(log_dir=checkpoint_path)\n",
    "val_loader = torch.utils.data.DataLoader(datasets['val'], batch_size=20, collate_fn=collate_fn_coco)\n",
    "\n",
    "for i in range(0, 105, 5):\n",
    "    try:\n",
    "        checkpoint = torch.load(os.path.join(checkpoint_path, checkpoint_name.format(i)))\n",
    "    except:\n",
    "        print(f'{checkpoint_name.format(i)} not found.')\n",
    "        continue\n",
    "        \n",
    "    model.load_state_dict(checkpoint['model'])\n",
    "    print(f'checkpoint {checkpoint_name.format(i)} loaded.')\n",
    "    \n",
    "    val_losses = eval_loss(val_loader, model, 'cuda')\n",
    "#     print(val_losses)\n",
    "#     assert False\n",
    "    writer.add_scalars(\"Loss/Iters\", val_losses, i * iter_per_eps)"
   ]
  },
  {
   "cell_type": "code",
   "execution_count": null,
   "metadata": {},
   "outputs": [],
   "source": []
  }
 ],
 "metadata": {
  "kernelspec": {
   "display_name": "motionclip",
   "language": "python",
   "name": "motionclip"
  },
  "language_info": {
   "codemirror_mode": {
    "name": "ipython",
    "version": 3
   },
   "file_extension": ".py",
   "mimetype": "text/x-python",
   "name": "python",
   "nbconvert_exporter": "python",
   "pygments_lexer": "ipython3",
   "version": "3.8.11"
  }
 },
 "nbformat": 4,
 "nbformat_minor": 4
}
